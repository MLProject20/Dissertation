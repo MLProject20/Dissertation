{
 "cells": [
  {
   "cell_type": "markdown",
   "metadata": {},
   "source": [
    "### Import Data"
   ]
  },
  {
   "cell_type": "code",
   "execution_count": 3,
   "metadata": {},
   "outputs": [],
   "source": [
    "import pandas as pd\n",
    "import numpy as np\n",
    "import os\n",
    "import glob as gb\n",
    "import arcpy\n",
    "import time"
   ]
  },
  {
   "cell_type": "code",
   "execution_count": 4,
   "metadata": {},
   "outputs": [],
   "source": [
    "path = 'C:\\\\Users\\\\padu\\Dropbox (UNC Charlotte)\\\\Providence Adu’s files\\\\Data'\n",
    "\n",
    "ProjectGDB =  r\"C:\\\\Users\\\\padu\\\\Desktop\\\\Thesis\\\\HistoricParcels.gdb\"\n",
    "arcpy.env.overwriteOutput = True\n",
    "arcpy.env.workspace = ProjectGDB"
   ]
  },
  {
   "cell_type": "code",
   "execution_count": 5,
   "metadata": {},
   "outputs": [],
   "source": [
    "os.chdir(path)"
   ]
  },
  {
   "cell_type": "markdown",
   "metadata": {},
   "source": [
    "### Data Filtering and Cleaning"
   ]
  },
  {
   "cell_type": "code",
   "execution_count": 4,
   "metadata": {},
   "outputs": [],
   "source": [
    "# All = gb.glob(path + \"/Housing*.csv\")\n",
    "# All\n",
    "\n",
    "# for row in All:\n",
    "#     print(row)\n",
    "#     housing = pd.read_csv(row,engine = 'python', encoding='mbcs')\n",
    "#     housingdata = housing[housing['Land Code'].isin(['Attached Res','Single-Fam','Multi-Family'])]\n",
    "#     housingdata = housing.drop_duplicates(subset=['Case Number','Inspection Notes'], keep=\"first\")\n",
    "#     print(housingdata.shape)\n",
    "#     print(housingdata.groupby('Case Type').size())\n",
    "#     housingnuisance = housing[housing['Case Type'] == 'Nuisance']\n",
    "#     housingdata.to_csv(\"ResidentialCodeViolation\" + row[-8:-4] + \".csv\", index = False)\n",
    "    \n",
    "#     housingnuisance.to_csv(\"HousingNuisance\" + row[-8:-4] + \".csv\")"
   ]
  },
  {
   "cell_type": "markdown",
   "metadata": {},
   "source": [
    "### Geocoding"
   ]
  },
  {
   "cell_type": "code",
   "execution_count": 5,
   "metadata": {},
   "outputs": [],
   "source": [
    "# All = [r'C:\\Users\\padu\\Dropbox (UNC Charlotte)\\Providence Adu’s files\\Data\\ResidentialCodeViolation19_A.csv',\n",
    "#  r'C:\\Users\\padu\\Dropbox (UNC Charlotte)\\Providence Adu’s files\\Data\\ResidentialCodeViolation19_B.csv',\n",
    "#  r'C:\\Users\\padu\\Dropbox (UNC Charlotte)\\Providence Adu’s files\\Data\\ResidentialCodeViolation2010.csv',\n",
    "#  r'C:\\Users\\padu\\Dropbox (UNC Charlotte)\\Providence Adu’s files\\Data\\ResidentialCodeViolation2011.csv',\n",
    "#  r'C:\\Users\\padu\\Dropbox (UNC Charlotte)\\Providence Adu’s files\\Data\\ResidentialCodeViolation2012.csv',\n",
    "#  r'C:\\Users\\padu\\Dropbox (UNC Charlotte)\\Providence Adu’s files\\Data\\ResidentialCodeViolation2013.csv',\n",
    "#  r'C:\\Users\\padu\\Dropbox (UNC Charlotte)\\Providence Adu’s files\\Data\\ResidentialCodeViolation2014.csv',\n",
    "#  r'C:\\Users\\padu\\Dropbox (UNC Charlotte)\\Providence Adu’s files\\Data\\ResidentialCodeViolation2015.csv',\n",
    "#  r'C:\\Users\\padu\\Dropbox (UNC Charlotte)\\Providence Adu’s files\\Data\\ResidentialCodeViolation2016.csv',\n",
    "#  r'C:\\Users\\padu\\Dropbox (UNC Charlotte)\\Providence Adu’s files\\Data\\ResidentialCodeViolation2017.csv',\n",
    "#  r'C:\\Users\\padu\\Dropbox (UNC Charlotte)\\Providence Adu’s files\\Data\\ResidentialCodeViolation2018.csv',\n",
    "#  r'C:\\Users\\padu\\Dropbox (UNC Charlotte)\\Providence Adu’s files\\Data\\ResidentialCodeViolation2020.csv',\n",
    "#  r'C:\\Users\\padu\\Dropbox (UNC Charlotte)\\Providence Adu’s files\\Data\\ResidentialCodeViolation2022.csv',\n",
    "#  r'C:\\Users\\padu\\Dropbox (UNC Charlotte)\\Providence Adu’s files\\Data\\ResidentialCodeViolation21_A.csv',\n",
    "#  r'C:\\Users\\padu\\Dropbox (UNC Charlotte)\\Providence Adu’s files\\Data\\ResidentialCodeViolation21_B.csv']"
   ]
  },
  {
   "cell_type": "code",
   "execution_count": 6,
   "metadata": {},
   "outputs": [],
   "source": [
    "# for row in All:\n",
    "#     gdb =  r\"C:\\Users\\padu\\Desktop\\Thesis\\HistoricParcels.gdb\\ResidentialViolations\" + row[-8:-4]\n",
    "# #     print(row)\n",
    "#     print(gdb)\n",
    "#     arcpy.geocoding.GeocodeAddresses(row, \n",
    "#                                  r\"C:\\Users\\padu\\Desktop\\UrbanInstitute\\LocatorComposite.loc\",\n",
    "#                                  \"'Address or Place' 'Property Address' VISIBLE NONE;Address2 'Unit Number' VISIBLE NONE;Address3 <None> VISIBLE NONE;Neighborhood <None> VISIBLE NONE;City 'Property City' VISIBLE NONE;County <None> VISIBLE NONE;State 'Property State' VISIBLE NONE;ZIP 'Property Zipcode' VISIBLE NONE;ZIP4 <None> VISIBLE NONE;Country <None> VISIBLE NONE\",\n",
    "#                                      gdb, \n",
    "#                                  \"STATIC\", None,\n",
    "#                                  '', None, \"LOCATION_ONLY\")\n",
    "# #     print(arcpy.GetMessages())"
   ]
  },
  {
   "cell_type": "markdown",
   "metadata": {},
   "source": [
    "### Violations in Charlotte City Limits"
   ]
  },
  {
   "cell_type": "code",
   "execution_count": 7,
   "metadata": {},
   "outputs": [],
   "source": [
    "# for row in All:\n",
    "#     data  = arcpy.management.SelectLayerByLocation(\"ResidentialViolations\" + row[-8:-4], \n",
    "#                                                \"COMPLETELY_WITHIN\",\n",
    "#                                                \"CharlotteZillowBoundary\",\n",
    "#                                                None, \"NEW_SELECTION\", \"NOT_INVERT\")\n",
    "    \n",
    "#     arcpy.conversion.ExportFeatures(data,\n",
    "#                                 \"ResidentialViolationsCLT\" + row[-8:-4],\n",
    "#                                 '', \n",
    "#                                 \"NOT_USE_ALIAS\", \n",
    "#                                '', None)\n",
    "\n"
   ]
  },
  {
   "cell_type": "markdown",
   "metadata": {},
   "source": [
    "### New Residential Constructions"
   ]
  },
  {
   "cell_type": "code",
   "execution_count": 8,
   "metadata": {},
   "outputs": [],
   "source": [
    "# Years = ['2010','2011','2012','2013','2014','2015','2016','2017','2018','2019','2020','2021','2022']\n",
    "\n",
    "# for row in Years:\n",
    "#     print(row)\n",
    "#     data = arcpy.management.SelectLayerByAttribute(\"BuildingPermitsCLT\", \n",
    "#                                         \"NEW_SELECTION\", \n",
    "#                                         \"issuedate >= timestamp \" + \"'\"+ row +'-01-01 00:00:00' +\"' \" + 'And issuedate <= timestamp ' +\"'\"+ row +'-12-31 00:00:00'+\"' \" + 'And usdcdesc IN '+ '('+\"'101 - One Family Detached', '102 - One Family Attached/Townhouse (land sold w/unit)', '103 - Two Family / Duplex', '104 - 3 & 4 Family Apartments (no land sold with unit)', '105 - 5 or More Family Apartments (no land sold w/unit)', '112 - Mobile Home', '114 - 3 & 4 Family Condos (no land sold with unit)', '115 - 5 or More Family Condos (no land sold with unit)'\"+')', \n",
    "#                                         None)\n",
    "#     arcpy.conversion.ExportFeatures(data,\n",
    "#                                 \"NewResidentialConstruction\" + row,\n",
    "#                                 '', \n",
    "#                                 \"NOT_USE_ALIAS\", \n",
    "#                                '', None)"
   ]
  },
  {
   "cell_type": "markdown",
   "metadata": {},
   "source": [
    "### Residential Renovations"
   ]
  },
  {
   "cell_type": "code",
   "execution_count": 10,
   "metadata": {},
   "outputs": [],
   "source": [
    "# Years = ['2010','2011','2012','2013','2014','2015','2016','2017','2018','2019','2020','2021','2022']\n",
    "\n",
    "# for row in Years:\n",
    "#     print(row)\n",
    "#     data = arcpy.management.SelectLayerByAttribute(\"BuildingPermitsCLT\", \n",
    "#                                         \"NEW_SELECTION\", \n",
    "#                                         \"issuedate >= timestamp \" + \"'\"+ row +'-01-01 00:00:00' +\"' \" + 'And issuedate <= timestamp ' +\"'\"+ row +'-12-31 00:00:00'+\"' \" + 'And usdcdesc IN '+ '('+\"'434 - Housekeeping Buildings(additions, chimneys, conv,', '434 - Res Accessory Bldg (Add, Alteration, Repair, Replace)', '434 - Res Dwelling - CO required (Add, Alteration, Repair)', '434 - Res Dwelling (Addition, Alteration, Repair, Replace)', '434 - Res Dwelling (Alteration, Repair, Replace)', '438 - Residential Garages / Carports(attached or detache', '438 - Residential Garages / Carports(attached or detached)'\"+')', \n",
    "#                                         None)\n",
    "#     arcpy.conversion.ExportFeatures(data,\n",
    "#                                 \"ResidentialRenovations\" + row,\n",
    "#                                 '', \n",
    "# #                                 \"NOT_USE_ALIAS\", \n",
    "#                                '', None)"
   ]
  },
  {
   "cell_type": "markdown",
   "metadata": {},
   "source": [
    "### Residential Demolitions"
   ]
  },
  {
   "cell_type": "code",
   "execution_count": 11,
   "metadata": {},
   "outputs": [],
   "source": [
    "# Years = ['2010','2011','2012','2013','2014','2015','2016','2017','2018','2019','2020','2021','2022']\n",
    "\n",
    "# for row in Years:\n",
    "#     print(row)\n",
    "#     data = arcpy.management.SelectLayerByAttribute(\"BuildingPermitsCLT\", \n",
    "#                                         \"NEW_SELECTION\", \n",
    "#                                         \"issuedate >= timestamp \" + \"'\"+ row +'-01-01 00:00:00' +\"' \" + 'And issuedate <= timestamp ' +\"'\"+ row +'-12-31 00:00:00'+\"' \" + 'And usdcdesc IN '+ '('+\"'645 - One Family', '648 - Five or more Family', '647 - Three and Four Family', '646 - Two Family'\"+')', \n",
    "#                                         None)\n",
    "#     arcpy.conversion.ExportFeatures(data,\n",
    "#                                 \"ResidentialDemolitions\" + row,\n",
    "#                                 '', \n",
    "#                                 \"NOT_USE_ALIAS\", \n",
    "#                                '', None)"
   ]
  },
  {
   "cell_type": "markdown",
   "metadata": {},
   "source": [
    "### Parcel Data"
   ]
  },
  {
   "cell_type": "code",
   "execution_count": null,
   "metadata": {},
   "outputs": [],
   "source": [
    "# path = \"C:\\\\Users\\\\padu\\\\Desktop\\\\Parcels\\\\\"\n",
    "# os.chdir(path)\n",
    "\n",
    "# Shapfiles = gb.glob(path + \"/*.shp\")\n",
    "# Shapfiles"
   ]
  },
  {
   "cell_type": "code",
   "execution_count": 12,
   "metadata": {},
   "outputs": [],
   "source": [
    "# for row in Shapfiles[4:]:\n",
    "#     print(row[-16:-4])\n",
    "#     arcpy.conversion.FeatureClassToFeatureClass(row,ProjectGDB,row[-16:-4],'','')"
   ]
  },
  {
   "cell_type": "code",
   "execution_count": 13,
   "metadata": {},
   "outputs": [],
   "source": [
    "# for row in Shapfiles[:4]:\n",
    "#     print(row[-15:-4])\n",
    "#     arcpy.conversion.FeatureClassToFeatureClass(row,ProjectGDB,row[-15:-4],'','')"
   ]
  },
  {
   "cell_type": "code",
   "execution_count": 14,
   "metadata": {},
   "outputs": [],
   "source": [
    "# path = \"C:\\\\Users\\\\padu\\\\Dropbox (UNC Charlotte)\\\\Providence Adu’s files\\\\Data\\\\Housing Violations Data\"\n",
    "# os.chdir(path)"
   ]
  },
  {
   "cell_type": "code",
   "execution_count": 26,
   "metadata": {},
   "outputs": [
    {
     "data": {
      "text/plain": [
       "['taxdata_2010',\n",
       " 'taxdata_2011',\n",
       " 'Taxdata_2012',\n",
       " 'taxdata_2013',\n",
       " 'Taxdata_2016',\n",
       " 'TaxData_2018',\n",
       " 'TaxData_2020',\n",
       " 'TaxData2015',\n",
       " 'TaxData2017',\n",
       " 'TaxData2019',\n",
       " 'HousingData2010',\n",
       " 'HousingCodeViolation19_A',\n",
       " 'HousingCodeViolation19_B',\n",
       " 'HousingCodeViolation2010',\n",
       " 'HousingCodeViolation2011',\n",
       " 'HousingCodeViolation2012',\n",
       " 'HousingCodeViolation2013',\n",
       " 'HousingCodeViolation2014',\n",
       " 'HousingCodeViolation2015',\n",
       " 'HousingCodeViolation2016',\n",
       " 'HousingCodeViolation2017',\n",
       " 'HousingCodeViolation2018',\n",
       " 'HousingCodeViolation2020',\n",
       " 'HousingCodeViolation2022',\n",
       " 'HousingCodeViolation21_A',\n",
       " 'HousingCodeViolation21_B',\n",
       " 'HousingNuisance19_A',\n",
       " 'HousingNuisance19_B',\n",
       " 'HousingNuisance2010',\n",
       " 'HousingNuisance2011',\n",
       " 'HousingNuisance2012',\n",
       " 'HousingNuisance2013',\n",
       " 'HousingNuisance2014',\n",
       " 'HousingNuisance2015',\n",
       " 'HousingNuisance2016',\n",
       " 'HousingNuisance2017',\n",
       " 'HousingNuisance2018',\n",
       " 'HousingNuisance2020',\n",
       " 'HousingNuisance2022',\n",
       " 'HousingNuisance21_A',\n",
       " 'HousingNuisance21_B',\n",
       " 'ResidentialCod_GeocodeAddres',\n",
       " 'ResidentialViolations19_A',\n",
       " 'ResidentialViolations19_B',\n",
       " 'ResidentialViolations2010',\n",
       " 'ResidentialViolations2011',\n",
       " 'ResidentialViolations2012',\n",
       " 'ResidentialViolations2013',\n",
       " 'ResidentialViolations2014',\n",
       " 'ResidentialViolations2015',\n",
       " 'ResidentialViolations2016',\n",
       " 'ResidentialViolations2017',\n",
       " 'ResidentialViolations2018',\n",
       " 'ResidentialViolations2020',\n",
       " 'ResidentialViolations2022',\n",
       " 'ResidentialViolations21_A',\n",
       " 'ResidentialViolations21_B',\n",
       " 'CharlotteZillowBoundary',\n",
       " 'ResidentialViolationsCLT2010',\n",
       " 'ResidentialViolationsCLT2011',\n",
       " 'ResidentialViolationsCLT2012',\n",
       " 'ResidentialViolationsCLT2013',\n",
       " 'ResidentialViolationsCLT2014',\n",
       " 'ResidentialViolationsCLT2015',\n",
       " 'ResidentialViolationsCLT2016',\n",
       " 'ResidentialViolationsCLT2017',\n",
       " 'ResidentialViolationsCLT2018',\n",
       " 'ResidentialViolationsCLT2020',\n",
       " 'ResidentialViolationsCLT2022',\n",
       " 'ResidentialViolationsCLT21_A',\n",
       " 'ResidentialViolationsCLT21_B',\n",
       " 'BuildingPermitsCLT',\n",
       " 'ResidentialViolationsCLT19_A',\n",
       " 'ResidentialViolationsCLT19_B',\n",
       " 'NewResidentialConstruction2010',\n",
       " 'NewResidentialConstruction2011',\n",
       " 'NewResidentialConstruction2012',\n",
       " 'NewResidentialConstruction2013',\n",
       " 'NewResidentialConstruction2014',\n",
       " 'NewResidentialConstruction2015',\n",
       " 'NewResidentialConstruction2016',\n",
       " 'NewResidentialConstruction2017',\n",
       " 'NewResidentialConstruction2018',\n",
       " 'NewResidentialConstruction2019',\n",
       " 'NewResidentialConstruction2020',\n",
       " 'NewResidentialConstruction2021',\n",
       " 'NewResidentialConstruction2022',\n",
       " 'ResidentialRenovations2010',\n",
       " 'ResidentialRenovations2011',\n",
       " 'ResidentialRenovations2012',\n",
       " 'ResidentialRenovations2013',\n",
       " 'ResidentialRenovations2014',\n",
       " 'ResidentialRenovations2015',\n",
       " 'ResidentialRenovations2016',\n",
       " 'ResidentialRenovations2017',\n",
       " 'ResidentialRenovations2018',\n",
       " 'ResidentialRenovations2019',\n",
       " 'ResidentialRenovations2020',\n",
       " 'ResidentialRenovations2021',\n",
       " 'ResidentialRenovations2022',\n",
       " 'ResidentialDemolitions2010',\n",
       " 'ResidentialDemolitions2011',\n",
       " 'ResidentialDemolitions2012',\n",
       " 'ResidentialDemolitions2013',\n",
       " 'ResidentialDemolitions2014',\n",
       " 'ResidentialDemolitions2015',\n",
       " 'ResidentialDemolitions2016',\n",
       " 'ResidentialDemolitions2017',\n",
       " 'ResidentialDemolitions2018',\n",
       " 'ResidentialDemolitions2019',\n",
       " 'ResidentialDemolitions2020',\n",
       " 'ResidentialDemolitions2021',\n",
       " 'ResidentialDemolitions2022',\n",
       " 'NPA',\n",
       " 'TaxData2010',\n",
       " 'TaxData2011',\n",
       " 'TaxData2013',\n",
       " 'TaxData2016',\n",
       " 'TaxData2012',\n",
       " 'TaxData2020',\n",
       " 'TaxData2018',\n",
       " 'TaxData2014',\n",
       " 'Movers']"
      ]
     },
     "execution_count": 26,
     "metadata": {},
     "output_type": "execute_result"
    }
   ],
   "source": [
    "Table = arcpy.ListFeatureClasses()\n",
    "Table"
   ]
  },
  {
   "cell_type": "code",
   "execution_count": 15,
   "metadata": {},
   "outputs": [],
   "source": [
    "# for row in Table:\n",
    "#     print(row+'.csv')\n",
    "#     arcpy.conversion.TableToTable(row,path,row +\".csv\",'','','')"
   ]
  },
  {
   "cell_type": "markdown",
   "metadata": {},
   "source": [
    "### ADD Tax Parcel ID"
   ]
  },
  {
   "cell_type": "code",
   "execution_count": 32,
   "metadata": {},
   "outputs": [
    {
     "name": "stdout",
     "output_type": "stream",
     "text": [
      "2010\n",
      "2011\n",
      "2012\n",
      "2013\n",
      "2014\n",
      "2015\n",
      "2016\n",
      "2017\n",
      "2018\n",
      "2022\n"
     ]
    }
   ],
   "source": [
    "year = ['2010','2011','2012','2013','2014','2015','2016','2017','2018','2022']\n",
    "\n",
    "for row in year:\n",
    "    print(row)\n",
    "    arcpy.analysis.SpatialJoin(\"ResidentialViolationsCLT\"+row, \"TaxData\"+row,\n",
    "                           'ResidentialViolationsCLT_'+row, \n",
    "                           \"JOIN_ONE_TO_ONE\", \"KEEP_ALL\",'',\"WITHIN\", None, '')"
   ]
  },
  {
   "cell_type": "code",
   "execution_count": 33,
   "metadata": {},
   "outputs": [
    {
     "data": {
      "text/html": [
       "<div class='gpresult'><h2>Messages</h2><div id='messages' data-messages='[\"Start Time: Wednesday, October 5, 2022 7:40:28 PM\",\"Succeeded at Wednesday, October 5, 2022 7:40:45 PM (Elapsed Time: 17.25 seconds)\"]' data-show='true'><div id = 'default' /></div></div>"
      ],
      "text/plain": [
       "<Result 'C:\\\\\\\\Users\\\\\\\\padu\\\\\\\\Desktop\\\\\\\\Thesis\\\\\\\\HistoricParcels.gdb\\\\ResidentialViolationsCLTA_2019'>"
      ]
     },
     "execution_count": 33,
     "metadata": {},
     "output_type": "execute_result"
    }
   ],
   "source": [
    "arcpy.analysis.SpatialJoin(\"ResidentialViolationsCLT19_A\", \"TaxData2019\",\n",
    "                           'ResidentialViolationsCLTA_2019', \n",
    "                           \"JOIN_ONE_TO_ONE\", \"KEEP_ALL\",'',\"WITHIN\", None, '')"
   ]
  },
  {
   "cell_type": "code",
   "execution_count": 34,
   "metadata": {},
   "outputs": [
    {
     "data": {
      "text/html": [
       "<div class='gpresult'><h2>Messages</h2><div id='messages' data-messages='[\"Start Time: Wednesday, October 5, 2022 7:40:45 PM\",\"Succeeded at Wednesday, October 5, 2022 7:40:59 PM (Elapsed Time: 13.97 seconds)\"]' data-show='true'><div id = 'default' /></div></div>"
      ],
      "text/plain": [
       "<Result 'C:\\\\\\\\Users\\\\\\\\padu\\\\\\\\Desktop\\\\\\\\Thesis\\\\\\\\HistoricParcels.gdb\\\\ResidentialViolationsCLTB_2019'>"
      ]
     },
     "execution_count": 34,
     "metadata": {},
     "output_type": "execute_result"
    }
   ],
   "source": [
    "arcpy.analysis.SpatialJoin(\"ResidentialViolationsCLT19_B\", \"TaxData2019\",\n",
    "                           'ResidentialViolationsCLTB_2019', \n",
    "                           \"JOIN_ONE_TO_ONE\", \"KEEP_ALL\",'',\"WITHIN\", None, '')"
   ]
  },
  {
   "cell_type": "code",
   "execution_count": 35,
   "metadata": {},
   "outputs": [
    {
     "data": {
      "text/html": [
       "<div class='gpresult'><h2>Messages</h2><div id='messages' data-messages='[\"Start Time: Wednesday, October 5, 2022 7:41:00 PM\",\"Succeeded at Wednesday, October 5, 2022 7:41:22 PM (Elapsed Time: 22.03 seconds)\"]' data-show='true'><div id = 'default' /></div></div>"
      ],
      "text/plain": [
       "<Result 'C:\\\\\\\\Users\\\\\\\\padu\\\\\\\\Desktop\\\\\\\\Thesis\\\\\\\\HistoricParcels.gdb\\\\ResidentialViolationsCLTA_2021'>"
      ]
     },
     "execution_count": 35,
     "metadata": {},
     "output_type": "execute_result"
    }
   ],
   "source": [
    "arcpy.analysis.SpatialJoin(\"ResidentialViolationsCLT21_A\", \"TaxData2021\",\n",
    "                           'ResidentialViolationsCLTA_2021', \n",
    "                           \"JOIN_ONE_TO_ONE\", \"KEEP_ALL\",'',\"WITHIN\", None, '')"
   ]
  },
  {
   "cell_type": "code",
   "execution_count": 36,
   "metadata": {},
   "outputs": [
    {
     "data": {
      "text/html": [
       "<div class='gpresult'><h2>Messages</h2><div id='messages' data-messages='[\"Start Time: Wednesday, October 5, 2022 7:41:23 PM\",\"Succeeded at Wednesday, October 5, 2022 7:41:39 PM (Elapsed Time: 16.18 seconds)\"]' data-show='true'><div id = 'default' /></div></div>"
      ],
      "text/plain": [
       "<Result 'C:\\\\\\\\Users\\\\\\\\padu\\\\\\\\Desktop\\\\\\\\Thesis\\\\\\\\HistoricParcels.gdb\\\\ResidentialViolationsCLTB_2021'>"
      ]
     },
     "execution_count": 36,
     "metadata": {},
     "output_type": "execute_result"
    }
   ],
   "source": [
    "arcpy.analysis.SpatialJoin(\"ResidentialViolationsCLT21_B\", \"TaxData2021\",\n",
    "                           'ResidentialViolationsCLTB_2021', \n",
    "                           \"JOIN_ONE_TO_ONE\", \"KEEP_ALL\",'',\"WITHIN\", None, '')"
   ]
  },
  {
   "cell_type": "code",
   "execution_count": 14,
   "metadata": {},
   "outputs": [
    {
     "name": "stdout",
     "output_type": "stream",
     "text": [
      "2010\n",
      "2011\n",
      "2012\n",
      "2013\n",
      "2014\n",
      "2015\n",
      "2016\n",
      "2017\n",
      "2018\n",
      "2019\n",
      "2020\n",
      "2022\n"
     ]
    }
   ],
   "source": [
    "year = ['2010','2011','2012','2013','2014','2015','2016','2017','2018','2019','2020','2022']\n",
    "\n",
    "\n",
    "for row in year:\n",
    "    print(row)\n",
    "    \n",
    "    if row in ('2010','2011'):\n",
    "        \n",
    "        selection = arcpy.SelectLayerByAttribute_management(\"TaxData\"+row, \n",
    "                                        \"NEW_SELECTION\", \n",
    "                                        \"DescProper IN ('Multi-Family', 'Single-Fam', 'Condominium')\",\n",
    "                                        None)\n",
    "        \n",
    "    elif row in ('2012','2013','2014','2015','2016','2017','2018'):\n",
    "        \n",
    "        selection = arcpy.SelectLayerByAttribute_management(\"TaxData\"+row, \n",
    "                                        \"NEW_SELECTION\", \n",
    "                                        \"descproper IN ('Attached Res', 'Multi-Family', 'Single-Fam')\",\n",
    "                                        None) \n",
    "    else:  \n",
    "        selection = arcpy.SelectLayerByAttribute_management(\"TaxData\"+row, \n",
    "                                        \"NEW_SELECTION\", \n",
    "                                        \"descproper IN ('Condo/Townhome', 'Single-Family', 'Multi-Family')\",\n",
    "                                        None)\n",
    "#     time.sleep(60)\n",
    "    \n",
    "    arcpy.management.FeatureToPoint(selection,\"TaxDatapt\"+row,\"CENTROID\")\n",
    "    \n",
    "    arcpy.analysis.SpatialJoin(\"NPA\", \"TaxDatapt\"+row,\n",
    "                           'NPA_'+row, \n",
    "                           \"JOIN_ONE_TO_ONE\", \"KEEP_ALL\",'',\"COMPLETELY_CONTAINS\", None, '')\n",
    "    \n",
    "    arcpy.AlterField_management('NPA_'+row, 'Join_Count', 'HousingUnits'+row, 'HousingUnits'+row)\n",
    "    \n",
    "    Fields = [ 'map_book', 'map_page', 'map_block', 'lot_num', 'nc_pin', \n",
    "          'condo_town', 'parcel_typ', 'pid', 'legal_from', 'commonpid', \n",
    "          'taxpid', 'totalac', 'ownerlastn', 'ownerfirst', 'cownerfirs',\n",
    "          'cownerlast', 'houseno', 'houseunit', 'stdir', 'stname', 'sttype', \n",
    "          'stsuffix', 'codemunici', 'municipali', 'mailaddr1', 'mailaddr2', 'city',\n",
    "          'state', 'zipcode', 'extravalue', 'landvalue', \n",
    "          'totalvalue', 'dateofsale', 'price', 'cardno', 'yearbuilt',\n",
    "          'heatedarea', 'cdebuildin', 'descbuildi', 'storyheigh', 'aheatingty',\n",
    "          'heatedfuel', 'actype', 'extwall', 'foundation', 'numfirepla', \n",
    "          'fireplaces', 'bldggrade', 'fullbaths', 'halfbaths', 'bedrooms', \n",
    "          'units', 'deedbook', 'deedpage', 'grantor', 'vacantorim', 'typeofdeed', \n",
    "          'legalrefer', 'taxfire', 'taxmun', 'taxspecdis', 'dateannexe', 'landusecod',\n",
    "          'netbldgval', 'physicalde', 'propertyus', 'descproper', 'neighcode', 'neighbourh',\n",
    "          'ownertype', 'ownerno', 'accounttyp', 'parlegalde', 'parlanduni', 'landsequen']\n",
    "    \n",
    "    arcpy.management.DeleteField('NPA_'+row, Fields)\n",
    "    \n",
    "    NPAS =  arcpy.management.AddJoin('NPA_BP', \"NPA\", 'NPA_'+row, \"NPA\", \"KEEP_ALL\")\n",
    "    \n",
    "    arcpy.conversion.FeatureClassToFeatureClass(NPAS,ProjectGDB,'NPA','','')\n",
    "    \n",
    "   "
   ]
  },
  {
   "cell_type": "code",
   "execution_count": 38,
   "metadata": {},
   "outputs": [
    {
     "name": "stdout",
     "output_type": "stream",
     "text": [
      "2010\n",
      "2011\n",
      "2012\n",
      "2013\n",
      "2014\n",
      "2015\n",
      "2016\n",
      "2017\n",
      "2018\n",
      "2019\n"
     ]
    },
    {
     "data": {
      "text/html": [
       "<div class='gpresult'><h2>Messages</h2><div id='messages' data-messages='[\"Start Time: Friday, October 14, 2022 5:25:07 PM\",\"Succeeded at Friday, October 14, 2022 5:25:09 PM (Elapsed Time: 1.74 seconds)\"]' data-show='true'><div id = 'default' /></div></div>"
      ],
      "text/plain": [
       "<Result 'C:\\\\\\\\Users\\\\\\\\padu\\\\\\\\Desktop\\\\\\\\Thesis\\\\\\\\HistoricParcels.gdb\\\\NPA'>"
      ]
     },
     "execution_count": 38,
     "metadata": {},
     "output_type": "execute_result"
    }
   ],
   "source": [
    "year = ['2010','2011','2012','2013','2014','2015','2016','2017','2018','2019']\n",
    "\n",
    "for row in year:\n",
    "    print(row)\n",
    "    selection = arcpy.SelectLayerByAttribute_management(\"ResidentialViolationsCLT_\"+row, \n",
    "                                        \"NEW_SELECTION\", \n",
    "                                        \"Case_Type = 'Housing'\",\n",
    "                                        None) \n",
    "    \n",
    "    fields = ['OBJECTID', 'Join_Count', 'TARGET_FID', 'Date_Case_Created', 'Case_Type', 'Case_Origin', \n",
    "          'Case_Number', 'Case_Status', 'Property_Address', 'Unit_Number', 'Property_City', 'Property_State', \n",
    "          'Property_Zipcode', 'Property_Parcel_ID', 'Date_Violation_Created', \n",
    "          'Violation', 'Inspection_Notes', 'Case_Closed_On', 'Conclusion',\n",
    "          'Land_Code', 'OBJECTID_1', 'MAP_BOOK', 'MAP_PAGE', 'MAP_BLOCK', 'LOT_NUM', \n",
    "          'NC_PIN', 'CONDO_TOWN', 'PARCEL_TYP', 'PID', 'taxpid', 'commonpid', 'TotalAC', \n",
    "          'OwnerLastN', 'OwnerFirst', 'cownerfirs', 'cownerlast', 'HouseNo', 'HouseUnit', \n",
    "          'StDir', 'StName', 'StType', 'StSuffix', 'codeMunici', 'Municipali', 'MailAddr1',\n",
    "          'MailAddr2', 'City', 'State', 'ZipCode', 'ExtraValue', 'LandValue', 'TotalValue',\n",
    "          'DateofSale', 'Price', 'cardno', 'HeatedArea', 'cdeBuildin', 'DescBuildi', \n",
    "          'StoryHeigh', 'AHeatingTy', 'HeatedFuel', 'ACType', 'ExtWall', 'Foundation', 'numFirepla',\n",
    "          'Fireplaces', 'BldgGrade', 'FullBaths', 'HalfBaths', 'Bedrooms', 'Units', 'DeedBook', 'DeedPage',\n",
    "          'Grantor', 'VacantOrIm', 'TypeOfDeed', 'LegalRefer', 'TaxFire', 'TaxMun', 'TaxSpecDis', \n",
    "          'dateAnnexe', 'LandUseCod', 'NetBldgVal', 'PhysicalDe', 'PropertyUs', 'DescProper', 'neighcode',\n",
    "          'Neighbourh', 'OwnerType', 'OwnerNo', 'AccountTyp', 'ParLegalDe', 'ParLandUni', 'LandSequen', \n",
    "          'SalesSeque', 'WholeStree', 'gisacres']\n",
    "    \n",
    "#     arcpy.management.DeleteField(selection, fields)\n",
    "    \n",
    "#     arcpy.analysis.SpatialJoin(\"NPA_HousingUnitBP\", selection,\n",
    "#                            'TempsResVioJoin_'+row, \n",
    "#                            \"JOIN_ONE_TO_ONE\", \"KEEP_ALL\",'',\"COMPLETELY_CONTAINS\", None, '')\n",
    "    \n",
    "    NP = 'NPA'\n",
    "    \n",
    "    targetFeature = arcpy.SpatialJoin_analysis(NP, \n",
    "                                               selection, arcpy.Polygon, \"JOIN_ONE_TO_ONE\", \"KEEP_ALL\")\n",
    "\n",
    "#     target = arcpy.analysis.SpatialJoin(\"NPA_HousingUnitBP\", selection,\n",
    "#                            arcpy.Polygon, \n",
    "#                            \"JOIN_ONE_TO_ONE\", \"KEEP_ALL\",'',\"COMPLETELY_CONTAINS\", None, '')\n",
    "    \n",
    "    \n",
    "    \n",
    "arcpy.management.CopyFeatures(targetFeature, NP)\n",
    "#     arcpy.AlterField_management( 'TempsResVioJoin_'+row, 'Join_Count', \n",
    "#                                 'HousingViolations'+row, 'HousingViolations'+row)\n",
    "    \n",
    "#     NPAS =  arcpy.management.AddJoin('NPA_Test', \"NPA\", 'TempsResVioJoin_'+row, \"NPA\", \"KEEP_ALL\")\n",
    "#     arcpy.management.CopyFeatures(NPAS, 'NPA_Test2')\n",
    "#     arcpy.conversion.FeatureClassToFeatureClass(NPAS,ProjectGDB,'NPA20','','')\n",
    "    \n",
    "    \n",
    "# arcpy.conversion.FeatureClassToFeatureClass(NPAS,ProjectGDB,'NPA20','','')\n",
    "# arcpy.management.CopyFeatures(NPAS, 'NPA200')\n",
    "\n",
    "    \n",
    "#     NPACode = arcpy.management.AddJoin('NPA_BA', \"NPA\", 'TempsResVioJoin_'+row, \"NPA\", \"KEEP_ALL\")\n",
    "    \n",
    "    \n",
    "#     arcpy.conversion.FeatureClassToFeatureClass(NPACode,ProjectGDB,'NPAv','','')\n",
    "    "
   ]
  },
  {
   "cell_type": "code",
   "execution_count": 8,
   "metadata": {},
   "outputs": [
    {
     "name": "stdout",
     "output_type": "stream",
     "text": [
      "2010\n",
      "2011\n",
      "2012\n",
      "2013\n",
      "2014\n",
      "2015\n",
      "2016\n",
      "2017\n",
      "2018\n",
      "2019\n"
     ]
    }
   ],
   "source": [
    "year = ['2010','2011','2012','2013','2014','2015','2016','2017','2018','2019']\n",
    "\n",
    "spatialJoin = 'NPA'\n",
    "for row in year:\n",
    "    print(row)\n",
    "    selection = arcpy.SelectLayerByAttribute_management(\"ResidentialViolationsCLT_\"+row, \n",
    "                                        \"NEW_SELECTION\", \n",
    "                                        \"Case_Type = 'Housing'\",\n",
    "                                        None) \n",
    "    \n",
    "    fields = ['OBJECTID', 'Join_Count', 'TARGET_FID', 'Date_Case_Created', 'Case_Type', 'Case_Origin', \n",
    "          'Case_Number', 'Case_Status', 'Property_Address', 'Unit_Number', 'Property_City', 'Property_State', \n",
    "          'Property_Zipcode', 'Property_Parcel_ID', 'Date_Violation_Created', \n",
    "          'Violation', 'Inspection_Notes', 'Case_Closed_On', 'Conclusion',\n",
    "          'Land_Code', 'OBJECTID_1', 'MAP_BOOK', 'MAP_PAGE', 'MAP_BLOCK', 'LOT_NUM', \n",
    "          'NC_PIN', 'CONDO_TOWN', 'PARCEL_TYP', 'PID', 'taxpid', 'commonpid', 'TotalAC', \n",
    "          'OwnerLastN', 'OwnerFirst', 'cownerfirs', 'cownerlast', 'HouseNo', 'HouseUnit', \n",
    "          'StDir', 'StName', 'StType', 'StSuffix', 'codeMunici', 'Municipali', 'MailAddr1',\n",
    "          'MailAddr2', 'City', 'State', 'ZipCode', 'ExtraValue', 'LandValue', 'TotalValue',\n",
    "          'DateofSale', 'Price', 'cardno', 'HeatedArea', 'cdeBuildin', 'DescBuildi', \n",
    "          'StoryHeigh', 'AHeatingTy', 'HeatedFuel', 'ACType', 'ExtWall', 'Foundation', 'numFirepla',\n",
    "          'Fireplaces', 'BldgGrade', 'FullBaths', 'HalfBaths', 'Bedrooms', 'Units', 'DeedBook', 'DeedPage',\n",
    "          'Grantor', 'VacantOrIm', 'TypeOfDeed', 'LegalRefer', 'TaxFire', 'TaxMun', 'TaxSpecDis', \n",
    "          'dateAnnexe', 'LandUseCod', 'NetBldgVal', 'PhysicalDe', 'PropertyUs', 'DescProper', 'neighcode',\n",
    "          'Neighbourh', 'OwnerType', 'OwnerNo', 'AccountTyp', 'ParLegalDe', 'ParLandUni', 'LandSequen', \n",
    "          'SalesSeque', 'WholeStree', 'gisacres']\n",
    "    \n",
    "#     arcpy.management.DeleteField(selection, fields)\n",
    "    \n",
    "#     NP = 'NPA'\n",
    "#     spatialJoin = arcpy.analysis.SpatialJoin(\"NPA_BP\", selection,\n",
    "#                            arcpy.Polygon, \n",
    "#                            \"JOIN_ONE_TO_ONE\", \"KEEP_ALL\",'',\"COMPLETELY_CONTAINS\", None, '')\n",
    "    \n",
    "#     arcpy.AlterField_management( spatialJoin, 'Join_Count', \n",
    "#                                 'HousingViolations'+row, 'HousingViolations'+row)\n",
    "    \n",
    "    NP = 'NPA'\n",
    "#     NPAS =  arcpy.management.AddJoin(NP, \"NPA\", spatialJoin, \"NPA\", \"KEEP_ALL\")\n",
    "\n",
    "    spatialJoin = arcpy.SpatialJoin_analysis(spatialJoin, \n",
    "                                             'TempsResVioJoin_'+row, arcpy.Polygon,\n",
    "                                             \"JOIN_ONE_TO_ONE\", \"KEEP_ALL\", \"dummyField\", \"INTERSECT\")\n",
    "    \n",
    "    arcpy.CopyFeatures_management(spatialJoin,  'Kids')\n",
    "    \n",
    "# arcpy.conversion.FeatureClassToFeatureClass(NPAS,ProjectGDB,NP,'','')\n",
    "\n",
    "# # arcpy.conversion.FeatureClassToFeatureClass(NPAS,ProjectGDB,'NPA20','','')\n",
    "# arcpy.management.CopyFeatures(NPAS, 'NPA200')\n",
    "\n",
    "    \n",
    "#     NPACode = arcpy.management.AddJoin('NPA_BA', \"NPA\", 'TempsResVioJoin_'+row, \"NPA\", \"KEEP_ALL\")\n",
    "    \n",
    "    \n",
    "#     arcpy.conversion.FeatureClassToFeatureClass(NPACode,ProjectGDB,'NPAv','','')\n",
    "    "
   ]
  },
  {
   "cell_type": "code",
   "execution_count": 24,
   "metadata": {},
   "outputs": [
    {
     "name": "stdout",
     "output_type": "stream",
     "text": [
      "2010\n",
      "2011\n",
      "2012\n",
      "2013\n",
      "2014\n",
      "2015\n",
      "2016\n",
      "2017\n",
      "2018\n",
      "2019\n"
     ]
    }
   ],
   "source": [
    "year = ['2010','2011','2012','2013','2014','2015','2016','2017','2018','2019']\n",
    "\n",
    "spatialJoin = 'NPA_HU'\n",
    "\n",
    "for row in year:\n",
    "    print(row)\n",
    "    selection = arcpy.SelectLayerByAttribute_management(\"ResidentialViolationsCLT_\"+row, \n",
    "                                        \"NEW_SELECTION\", \n",
    "                                        \"Case_Type = 'Housing'\",\n",
    "                                        None) \n",
    "    NPA = 'NPA_HU'\n",
    "    \n",
    "    arcpy.management.DeleteField(\"NPA_HU\", 'Join_Count')\n",
    "    arcpy.management.DeleteField(\"ResidentialViolationsCLT_\"+row, 'Join_Count')\n",
    "    \n",
    "    spatialJoin = arcpy.analysis.SpatialJoin(\"NPA_HU\", selection,'TempsResVioJoin_'+row, \"JOIN_ONE_TO_ONE\",\n",
    "                                              \"KEEP_ALL\",'',\"COMPLETELY_CONTAINS\", None, '')\n",
    "    \n",
    "    arcpy.AlterField_management( spatialJoin, 'Join_Count', 'HousingViolations'+row, 'HousingViolations'+row)\n",
    "        \n",
    "    arcpy.CopyFeatures_management(spatialJoin, NPA)\n",
    "        \n",
    "    "
   ]
  },
  {
   "cell_type": "code",
   "execution_count": 27,
   "metadata": {},
   "outputs": [
    {
     "name": "stdout",
     "output_type": "stream",
     "text": [
      "2010\n",
      "2011\n",
      "2012\n",
      "2013\n",
      "2014\n",
      "2015\n",
      "2016\n",
      "2017\n",
      "2018\n",
      "2019\n"
     ]
    }
   ],
   "source": [
    "year = ['2010','2011','2012','2013','2014','2015','2016','2017','2018','2019']\n",
    "\n",
    "spatialJoin = 'NPAHousingUnits_Violations'\n",
    "\n",
    "for row in year:\n",
    "    print(row)\n",
    "    NPA = 'NPAHousingUnits_Violations'\n",
    "    \n",
    "#     arcpy.management.DeleteField(\"NPAHousingUnits_Violations\", 'Join_Count')\n",
    "#     arcpy.management.DeleteField(\"ResidentialViolationsCLT_\"+row, 'Join_Count')\n",
    "    \n",
    "    spatialJoin = arcpy.analysis.SpatialJoin(\"NPAHousingUnits_Violations\", \"ResidentialViolationsCLT_\"+row,\n",
    "                                             'ResVio_'+row, \"JOIN_ONE_TO_ONE\",\n",
    "                                              \"KEEP_ALL\",'',\"COMPLETELY_CONTAINS\", None, '')\n",
    "    \n",
    "    \n",
    "#     arcpy.AlterField_management(spatialJoin, 'Join_Count', 'ALLViolations'+row, 'ALLViolations'+row)\n",
    "        \n",
    "    arcpy.CopyFeatures_management(spatialJoin, NPA)\n",
    "        "
   ]
  },
  {
   "cell_type": "code",
   "execution_count": null,
   "metadata": {},
   "outputs": [],
   "source": [
    "year = ['2010','2011','2012','2013','2014','2015','2016','2017','2018','2019']\n",
    "\n",
    "spatialJoin = 'NPAHousingUnit_Violations'\n",
    "\n",
    "for row in year:\n",
    "    print(row)\n",
    "    NPA = 'NPAHousingUnit_Violations'\n",
    "    \n",
    "    arcpy.management.DeleteField(\"NPAHousingUnit_Violations\", 'Join_Count')\n",
    "    arcpy.management.DeleteField(\"ResidentialViolationsCLT_\"+row, 'Join_Count')\n",
    "    \n",
    "    spatialJoin = arcpy.analysis.SpatialJoin(\"NPAHousingUnit_Violations\", \"ResidentialViolationsCLT_\"+row,\n",
    "                                             'TempsResVioJoin_'+row, \"JOIN_ONE_TO_ONE\",\n",
    "                                              \"KEEP_ALL\",'',\"COMPLETELY_CONTAINS\", None, '')\n",
    "    \n",
    "    \n",
    "    arcpy.AlterField_management(spatialJoin, 'Join_Count', 'NewResCons'+row, 'NewResCons'+row)\n",
    "        \n",
    "    arcpy.CopyFeatures_management(spatialJoin, NPA)\n",
    "        "
   ]
  },
  {
   "cell_type": "code",
   "execution_count": null,
   "metadata": {},
   "outputs": [],
   "source": [
    "year = ['2010','2011','2012','2013','2014','2015','2016','2017','2018','2019']\n",
    "\n",
    "spatialJoin = 'NPAHousingUnits_Violations'\n",
    "\n",
    "for row in year:\n",
    "    print(row)\n",
    "    NPA = 'NPAHousingUnits_Violations'\n",
    "    \n",
    "    arcpy.management.DeleteField(\"NPAHousingUnits_Violations\", 'Join_Count')\n",
    "    arcpy.management.DeleteField(\"ResidentialViolationsCLT_\"+row, 'Join_Count')\n",
    "    \n",
    "    spatialJoin = arcpy.analysis.SpatialJoin(\"NPAHousingUnits_Violations\", \"ResidentialViolationsCLT_\"+row,\n",
    "                                             'TempsResVioJoin_'+row, \"JOIN_ONE_TO_ONE\",\n",
    "                                              \"KEEP_ALL\",'',\"COMPLETELY_CONTAINS\", None, '')\n",
    "    \n",
    "    arcpy.AlterField_management(spatialJoin, 'Join_Count', 'ALLViolations'+row, 'ALLViolations'+row)\n",
    "        \n",
    "    arcpy.CopyFeatures_management(spatialJoin, NPA)\n",
    "        "
   ]
  },
  {
   "cell_type": "code",
   "execution_count": 28,
   "metadata": {},
   "outputs": [
    {
     "data": {
      "text/html": [
       "<div class='gpresult'><h2>Messages</h2><div id='messages' data-messages='[\"Start Time: Friday, October 14, 2022 9:36:01 PM\",\"Succeeded at Friday, October 14, 2022 9:36:02 PM (Elapsed Time: 1.35 seconds)\"]' data-show='true'><div id = 'default' /></div></div>"
      ],
      "text/plain": [
       "<Result 'C:\\\\\\\\Users\\\\\\\\padu\\\\\\\\Desktop\\\\\\\\Thesis\\\\\\\\HistoricParcels.gdb\\\\NPAID_SpatialJoin20000'>"
      ]
     },
     "execution_count": 28,
     "metadata": {},
     "output_type": "execute_result"
    }
   ],
   "source": [
    "arcpy.analysis.SpatialJoin(\"NPAID\", \"ResidentialViolationsCLT_2018\",\n",
    "                           \"NPAID_SpatialJoin20000\", \"JOIN_ONE_TO_ONE\", \"KEEP_ALL\", '', \"COMPLETELY_CONTAINS\", None, '')\n"
   ]
  },
  {
   "cell_type": "code",
   "execution_count": null,
   "metadata": {},
   "outputs": [],
   "source": []
  }
 ],
 "metadata": {
  "kernelspec": {
   "display_name": "Python 3 (ipykernel)",
   "language": "python",
   "name": "python3"
  },
  "language_info": {
   "codemirror_mode": {
    "name": "ipython",
    "version": 3
   },
   "file_extension": ".py",
   "mimetype": "text/x-python",
   "name": "python",
   "nbconvert_exporter": "python",
   "pygments_lexer": "ipython3",
   "version": "3.9.11"
  }
 },
 "nbformat": 4,
 "nbformat_minor": 4
}
