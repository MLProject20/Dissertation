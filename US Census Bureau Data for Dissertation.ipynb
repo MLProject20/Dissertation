{
 "cells": [
  {
   "cell_type": "markdown",
   "metadata": {
    "id": "5mAZXxZeQhyu"
   },
   "source": [
    "### Quality of Life Explorer "
   ]
  },
  {
   "cell_type": "markdown",
   "metadata": {
    "id": "mHRt1oGzQhyw"
   },
   "source": [
    "##### Import Libraries\n",
    "\n",
    "- To run this script we need the libraries below\n",
    "- Pandas : For creating DataFrames\n",
    "- Numpy:  For computations \n",
    "- OS : For modifying working directories \n",
    "- censusdata: This is a library for accessing US Census Bureau, we use some of its function to preview variables *\n",
    "- Census: Main library for accessing the US Census Bureau API *\n",
    "- pd.set_option allows us to view our entire output instead of it being truncated in jupyter notebook\n",
    "\n",
    "\n",
    "\n",
    " * You need to install these packages before you can use. Census = pip install census | censusdata = pip install CensusData"
   ]
  },
  {
   "cell_type": "code",
   "execution_count": 1,
   "metadata": {
    "colab": {
     "base_uri": "https://localhost:8080/",
     "height": 373
    },
    "id": "Z-Z4dA4rQhyx",
    "outputId": "ed591eaf-4f1e-4f00-c189-e8c933e6c23a"
   },
   "outputs": [],
   "source": [
    "import pandas as pd\n",
    "import numpy as np\n",
    "import os\n",
    "import censusdata as cs\n",
    "from census import Census\n",
    "pd.set_option('display.max_rows',None, 'display.max_columns',None,'display.max_colwidth', None)"
   ]
  },
  {
   "cell_type": "markdown",
   "metadata": {
    "id": "VjVFeb0uQhyy"
   },
   "source": [
    "##### Set Directory \n",
    "\n",
    "- Jupyter notebooks have default directories \n",
    "- Use os.chdir to set your preferred directory"
   ]
  },
  {
   "cell_type": "code",
   "execution_count": 2,
   "metadata": {
    "id": "Ra1yS_jhQhyy"
   },
   "outputs": [],
   "source": [
    "# path = \"C:\\\\Users\\\\padu\\\\Desktop\\\\UrbanInstitute\\\\CensusData\"\n",
    "# os.chdir(path)"
   ]
  },
  {
   "cell_type": "code",
   "execution_count": 3,
   "metadata": {
    "colab": {
     "base_uri": "https://localhost:8080/",
     "height": 35
    },
    "id": "_TCdnGoyQhyz",
    "outputId": "736324b3-9ca3-4fe7-852f-e23472440256"
   },
   "outputs": [
    {
     "data": {
      "text/plain": [
       "'C:\\\\Users\\\\padu\\\\Downloads'"
      ]
     },
     "execution_count": 3,
     "metadata": {},
     "output_type": "execute_result"
    }
   ],
   "source": [
    "pwd"
   ]
  },
  {
   "cell_type": "markdown",
   "metadata": {
    "id": "MOWKQYPcQhyz"
   },
   "source": [
    "##### Pass your API Key\n",
    "\n",
    "- Go to this [website](https://api.census.gov/data/key_signup.html 'sign up for your personal API key') and sign up your personal API key \n",
    "\n",
    "- Once you get your API key, call the Census function and pass your API key. Eg. Census(\"API Key\") "
   ]
  },
  {
   "cell_type": "code",
   "execution_count": 4,
   "metadata": {
    "colab": {
     "base_uri": "https://localhost:8080/",
     "height": 165
    },
    "id": "J2UXok-AQhy0",
    "outputId": "365c75b5-55d7-41fe-836e-f5f1f5ba326a"
   },
   "outputs": [],
   "source": [
    "c = Census(\"e0577a26a616f4dda60446eae987e3b6d0d944a3\")"
   ]
  },
  {
   "cell_type": "markdown",
   "metadata": {
    "id": "gGNkgVI9Qhy0"
   },
   "source": [
    "#### Preview ACS variable \n",
    "- Use the censustable function from censusdata library to preview the census variables\n",
    "- To preview specify the dataset type eg. ACS year 5 estimates (acs5), then the year of interest(2019), then the table number('B21001')\n",
    "- Use the printtable function to format the output nicely "
   ]
  },
  {
   "cell_type": "markdown",
   "metadata": {
    "id": "I2JBbUyRQhy1"
   },
   "source": [
    "#### Downloading ACS data \n",
    "- We use the census library to download ACS variables for the census API. \n",
    "- We are able to access the census API because we passed our unique API key in the step above\n",
    "- To access the data with census library, we have to specify the dataset of interest(acs5) and call the 'get' function\n",
    "- The get function needs few key parameters including : NAME, ACS variable ID, geography of interest, and year of interest\n",
    "\n",
    "    - Name: The name parameter reports the census block name\n",
    "    \n",
    "    - ACS Variable: The variable has to be specific, Estimates has E at the end, Margion of Error has M \n",
    "    \n",
    "    - Geography: The geography uses a python dictionary.i.e key value pairs. we are interested in all blockgroup in Mecklenburg county. To get those we have to specify the geography using (for:name of geography and asteriks since we want all blockgroups), then for the county we have to specify the State ID (NC ID is 37) and the County ID (Meck County ID is 119), then the year (2019)\n",
    "    \n",
    "- The output after running the get function is a dictionary, so we wrap it in pandas DataFrame for further analysis"
   ]
  },
  {
   "cell_type": "code",
   "execution_count": 5,
   "metadata": {},
   "outputs": [
    {
     "name": "stdout",
     "output_type": "stream",
     "text": [
      "2013\n",
      "2014\n",
      "2015\n",
      "2016\n",
      "2017\n",
      "2018\n",
      "2019\n",
      "2020\n"
     ]
    }
   ],
   "source": [
    "Years = [2013,2014,2015,2016,2017,2018,2019,2020]\n",
    "# Years = [2020]\n",
    "\n",
    "for year in Years:\n",
    "    print(year)\n",
    "    \n",
    "\n",
    "    Data = pd.DataFrame(c.acs5.get(('NAME',\n",
    "                                    ######################## MEDIAN AGE ##################################\n",
    "                                    'B01002_001E','B01002_001M',\n",
    "                                    ################## HISPANIC OR LATINO ORIGIN BY RACE ################\n",
    "                                    'B03002_006E','B03002_006M','B03002_004E','B03002_004M','B03002_003E',\n",
    "                                    'B03002_003M','B03002_012E','B03002_012M','B03002_001E','B03002_001M',\n",
    "                                    ##################EDUCATIONAL ATTAINMENT ##########################\n",
    "                                    'B15003_023E','B15003_023M','B15003_024E','B15003_024M','B15003_025E',\n",
    "                                    'B15003_025M','B15003_022E','B15003_022M','B15003_025E','B15003_025M',\n",
    "                                    'B15003_001E','B15003_001M',\n",
    "                                    ####################MEDIAN HOUSEHOLD INCOME ##########################\n",
    "                                    'B19013_001E','B19013_001M',\n",
    "                                    ############################GROSS RENT ###############################\n",
    "                                    'B25063_001E','B25063_001M',\n",
    "                                    ############################TENURE####################################\n",
    "                                   'B25003_002E','B25003_002M','B25003_001E','B25003_001M'\n",
    "                                    ########################## POVERTY####################################\n",
    "                                   # 'B17020_001E', 'B17020_001M','B17020_002E','B17020_002M'\n",
    "                                   ),{'for':'block group:*',\n",
    "                                       'in':'state:37 county:119'}, year =year))\n",
    "    \n",
    "    Data.rename(columns={\n",
    "                     ###################################### MEDIAN AGE ################################################,\n",
    "                    'B01002_001E': 'Median_AgeE','B01002_001M':'Median_AgeM',\n",
    "                     ############################## HISPANIC OR LATINO ORIGIN BY RACE ###############################,\n",
    "                     'B03002_006E':'AsianAloneE','B03002_006M':'AsianAloneM','B03002_004E':'BlackAloneE',\n",
    "                     'B03002_004M':'BlackAloneM','B03002_003E':'WhiteAloneE','B03002_003M':'WhiteAloneM',\n",
    "                     'B03002_012E':'HispanicAloneE', 'B03002_012M':'HispanicAloneM','B03002_001E':'TotalRaceE',\n",
    "                     'B03002_001M':'TotalRaceM',\n",
    "                     ##################################EDUCATIONAL ATTAINMENT ############################,\n",
    "                     'B15003_022E':'BachelorsDegreeE','B15003_022M':'BachelorsDegreeM','B15003_023E':'MastersDegreeE',\n",
    "                     'B15003_023M':'MastersDegreeM','B15003_024E':'ProfessionalSchoolDegreeE',\n",
    "                     'B15003_024M':'ProfessionalSchoolDegreeM','B15003_025E':'DoctorateDegreeE',\n",
    "                     'B15003_025M':'DoctorateDegreeM','B15003_001E':'TotalEducationAttainmentE',\n",
    "                     'B15003_001M':'TotalEducationAttainmentM',\n",
    "                     ########################################MEDIAN HOUSEHOLDINCOME###################################,\n",
    "                     'B19013_001E':'MedianHouseholdIncomeE','B19013_001M':'MedianHouseholdIncomeM',\n",
    "                     ########################GROSS RENT ####################################,\n",
    "                     'B25063_001E':'TotalGrossRentE','B25063_001M':'TotalGrossRentM',\n",
    "                     ###################################Owneroccupied####################################\n",
    "                     'B25003_002E':'OwnerOccupiedE', 'B25003_002M':'OwnerOccupiedM',\n",
    "                     'B25003_001E':'TotalOwnerOccupiedE', 'B25003_001M':'TotalOwnerOccupiedM'\n",
    "                    ################################### POVERTY ###############################\n",
    "#                      'B17020_001E': 'TotalBelowPovertyE','B17020_002E': 'BelowPovertyE',\n",
    "#                      'B17020_001M': 'TotalBelowPovertyM','B17020_002M': 'BelowPovertyM'\n",
    "            \n",
    "                    \n",
    "                    },\n",
    "           inplace = True)\n",
    "    \n",
    "    col = []\n",
    "\n",
    "    for row in Data.columns:\n",
    "        if row not in ('NAME','GEO_ID','state','county','tract','block group'):\n",
    "            col.append(row)\n",
    "\n",
    "        \n",
    "#     for row in col:\n",
    "#         Data[row]= Data[row].apply(np.int64)\n",
    "    \n",
    "    Data.replace(-666666666.0,np.nan,inplace= True)\n",
    "    Data.replace(-222222222.0,np.nan,inplace= True)\n",
    "    Data.replace(-333333333.0,np.nan,inplace= True)\n",
    "    \n",
    "    Data['GEOID'] = (Data['state'] + Data['county'] + Data['tract'] + Data['block group']).astype('int64')\n",
    "    \n",
    "    NPA = pd.read_csv('https://raw.githubusercontent.com/MLProject20/Data/main/NPA_Census_Crosswalk.csv')\n",
    "\n",
    "#     NPA = pd.read_csv('https://raw.githubusercontent.com/MLProject20/Data/main/NPA_Census_Crosswalk_2020.csv')\n",
    "    \n",
    "    NPAData = pd.merge(NPA,Data, how = \"left\", left_on = ['GEOID2'], right_on= ['GEOID'])\n",
    "    \n",
    "    Data = NPAData.groupby('NPA').sum()\n",
    "    \n",
    "    Data['PercentAsian'] = (Data['AsianAloneE']/Data['TotalRaceE'])\n",
    "    Data['PercentBlack'] = (Data['BlackAloneE']/Data['TotalRaceE'])\n",
    "    Data['PercentWhite'] = (Data['WhiteAloneE']/Data['TotalRaceE'])\n",
    "    Data['PercentHispanic'] = (Data['HispanicAloneE']/Data['TotalRaceE'])\n",
    "    \n",
    "    BachelorsE = ['BachelorsDegreeE','MastersDegreeE','ProfessionalSchoolDegreeE','DoctorateDegreeE']\n",
    "\n",
    "\n",
    "    Data['AdultsWithAtLeastBachelorsA'] = Data[BachelorsE].sum(1)\n",
    "    \n",
    "    Data['PercentAdultsWithAtLeastBachelors'] = (Data['AdultsWithAtLeastBachelorsA']/Data['TotalEducationAttainmentE'])\n",
    "    Data['PercentOwnerOccupied'] = Data['OwnerOccupiedE']/Data['TotalOwnerOccupiedE']\n",
    "    \n",
    "    for row in Data: \n",
    "        if row.startswith('Per'):\n",
    "            Data[str(row)+str(year)] = Data[str(row)]*100\n",
    "            \n",
    "    Percentages = ['PercentAsian'+str(year), 'PercentBlack'+str(year),'PercentWhite'+str(year),\n",
    "                   'PercentHispanic'+str(year), 'PercentAdultsWithAtLeastBachelors'+str(year),\n",
    "             'PercentOwnerOccupied'+str(year)]\n",
    "            \n",
    "    Data[Percentages].to_csv('QualityOfLifeExplorer'+ str(year)+'.csv')\n",
    "\n",
    "    # Data"
   ]
  },
  {
   "cell_type": "markdown",
   "metadata": {
    "deletable": false,
    "editable": false,
    "id": "szBM2FclQhzP"
   },
   "source": [
    "#### Veterans"
   ]
  }
 ],
 "metadata": {
  "colab": {
   "name": "Quality of Life Explorer.ipynb",
   "provenance": [],
   "toc_visible": true
  },
  "kernelspec": {
   "display_name": "Python 3",
   "language": "python",
   "name": "python3"
  },
  "language_info": {
   "codemirror_mode": {
    "name": "ipython",
    "version": 3
   },
   "file_extension": ".py",
   "mimetype": "text/x-python",
   "name": "python",
   "nbconvert_exporter": "python",
   "pygments_lexer": "ipython3",
   "version": "3.7.9"
  }
 },
 "nbformat": 4,
 "nbformat_minor": 1
}
